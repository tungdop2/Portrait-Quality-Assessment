{
 "cells": [
  {
   "cell_type": "code",
   "execution_count": 1,
   "metadata": {},
   "outputs": [],
   "source": [
    "import os\n",
    "import pandas as pd"
   ]
  },
  {
   "cell_type": "code",
   "execution_count": 2,
   "metadata": {},
   "outputs": [
    {
     "data": {
      "text/plain": [
       "['Scores_Exposure.csv', 'Scores_Overall.csv', 'Scores_Details.csv']"
      ]
     },
     "execution_count": 2,
     "metadata": {},
     "output_type": "execute_result"
    }
   ],
   "source": [
    "os.listdir('Scores')"
   ]
  },
  {
   "cell_type": "code",
   "execution_count": 3,
   "metadata": {},
   "outputs": [],
   "source": [
    "score_details = pd.read_csv('Scores/Scores_Details.csv')"
   ]
  },
  {
   "cell_type": "code",
   "execution_count": 4,
   "metadata": {},
   "outputs": [
    {
     "data": {
      "text/html": [
       "<div>\n",
       "<style scoped>\n",
       "    .dataframe tbody tr th:only-of-type {\n",
       "        vertical-align: middle;\n",
       "    }\n",
       "\n",
       "    .dataframe tbody tr th {\n",
       "        vertical-align: top;\n",
       "    }\n",
       "\n",
       "    .dataframe thead th {\n",
       "        text-align: right;\n",
       "    }\n",
       "</style>\n",
       "<table border=\"1\" class=\"dataframe\">\n",
       "  <thead>\n",
       "    <tr style=\"text-align: right;\">\n",
       "      <th></th>\n",
       "      <th>IMAGE PATH</th>\n",
       "      <th>JOD</th>\n",
       "      <th>JOD STD</th>\n",
       "      <th>CI LOW</th>\n",
       "      <th>CI HIGH</th>\n",
       "      <th>CI RANGE</th>\n",
       "      <th>QUALITY LEVEL</th>\n",
       "      <th>CLUSTER</th>\n",
       "      <th>TOTAL COMPARISONS</th>\n",
       "      <th>IMAGE</th>\n",
       "      <th>SCENE</th>\n",
       "      <th>ATTRIBUTE</th>\n",
       "      <th>SCENE IDX</th>\n",
       "      <th>CONDITION</th>\n",
       "    </tr>\n",
       "  </thead>\n",
       "  <tbody>\n",
       "    <tr>\n",
       "      <th>0</th>\n",
       "      <td>Details\\33_Indoor_Scene_0.jpg</td>\n",
       "      <td>-3.702849</td>\n",
       "      <td>0.360613</td>\n",
       "      <td>-4.438902</td>\n",
       "      <td>-3.096603</td>\n",
       "      <td>1.342300</td>\n",
       "      <td>0</td>\n",
       "      <td>-1.0</td>\n",
       "      <td>86.0</td>\n",
       "      <td>33_Indoor_Scene_0.jpg</td>\n",
       "      <td>Indoor_Scene_0</td>\n",
       "      <td>Details</td>\n",
       "      <td>0</td>\n",
       "      <td>Indoor</td>\n",
       "    </tr>\n",
       "    <tr>\n",
       "      <th>1</th>\n",
       "      <td>Details\\2_Indoor_Scene_0.JPG</td>\n",
       "      <td>-2.914796</td>\n",
       "      <td>0.403616</td>\n",
       "      <td>-3.721170</td>\n",
       "      <td>-2.178345</td>\n",
       "      <td>1.542825</td>\n",
       "      <td>0</td>\n",
       "      <td>-1.0</td>\n",
       "      <td>95.0</td>\n",
       "      <td>2_Indoor_Scene_0.JPG</td>\n",
       "      <td>Indoor_Scene_0</td>\n",
       "      <td>Details</td>\n",
       "      <td>0</td>\n",
       "      <td>Indoor</td>\n",
       "    </tr>\n",
       "    <tr>\n",
       "      <th>2</th>\n",
       "      <td>Details\\44_Indoor_Scene_0.jpg</td>\n",
       "      <td>-2.794981</td>\n",
       "      <td>0.403803</td>\n",
       "      <td>-3.564730</td>\n",
       "      <td>-2.034852</td>\n",
       "      <td>1.529878</td>\n",
       "      <td>0</td>\n",
       "      <td>-1.0</td>\n",
       "      <td>124.0</td>\n",
       "      <td>44_Indoor_Scene_0.jpg</td>\n",
       "      <td>Indoor_Scene_0</td>\n",
       "      <td>Details</td>\n",
       "      <td>0</td>\n",
       "      <td>Indoor</td>\n",
       "    </tr>\n",
       "    <tr>\n",
       "      <th>3</th>\n",
       "      <td>Details\\31_Indoor_Scene_0.tiff</td>\n",
       "      <td>-2.730671</td>\n",
       "      <td>0.347459</td>\n",
       "      <td>-3.363313</td>\n",
       "      <td>-2.016440</td>\n",
       "      <td>1.346873</td>\n",
       "      <td>0</td>\n",
       "      <td>-1.0</td>\n",
       "      <td>119.0</td>\n",
       "      <td>31_Indoor_Scene_0.tiff</td>\n",
       "      <td>Indoor_Scene_0</td>\n",
       "      <td>Details</td>\n",
       "      <td>0</td>\n",
       "      <td>Indoor</td>\n",
       "    </tr>\n",
       "    <tr>\n",
       "      <th>4</th>\n",
       "      <td>Details\\32_Indoor_Scene_0.jpg</td>\n",
       "      <td>-2.464653</td>\n",
       "      <td>0.354540</td>\n",
       "      <td>-3.146200</td>\n",
       "      <td>-1.810300</td>\n",
       "      <td>1.335900</td>\n",
       "      <td>0</td>\n",
       "      <td>-1.0</td>\n",
       "      <td>126.0</td>\n",
       "      <td>32_Indoor_Scene_0.jpg</td>\n",
       "      <td>Indoor_Scene_0</td>\n",
       "      <td>Details</td>\n",
       "      <td>0</td>\n",
       "      <td>Indoor</td>\n",
       "    </tr>\n",
       "  </tbody>\n",
       "</table>\n",
       "</div>"
      ],
      "text/plain": [
       "                       IMAGE PATH       JOD   JOD STD    CI LOW   CI HIGH  \\\n",
       "0   Details\\33_Indoor_Scene_0.jpg -3.702849  0.360613 -4.438902 -3.096603   \n",
       "1    Details\\2_Indoor_Scene_0.JPG -2.914796  0.403616 -3.721170 -2.178345   \n",
       "2   Details\\44_Indoor_Scene_0.jpg -2.794981  0.403803 -3.564730 -2.034852   \n",
       "3  Details\\31_Indoor_Scene_0.tiff -2.730671  0.347459 -3.363313 -2.016440   \n",
       "4   Details\\32_Indoor_Scene_0.jpg -2.464653  0.354540 -3.146200 -1.810300   \n",
       "\n",
       "   CI RANGE  QUALITY LEVEL  CLUSTER  TOTAL COMPARISONS  \\\n",
       "0  1.342300              0     -1.0               86.0   \n",
       "1  1.542825              0     -1.0               95.0   \n",
       "2  1.529878              0     -1.0              124.0   \n",
       "3  1.346873              0     -1.0              119.0   \n",
       "4  1.335900              0     -1.0              126.0   \n",
       "\n",
       "                    IMAGE           SCENE ATTRIBUTE  SCENE IDX CONDITION  \n",
       "0   33_Indoor_Scene_0.jpg  Indoor_Scene_0   Details          0    Indoor  \n",
       "1    2_Indoor_Scene_0.JPG  Indoor_Scene_0   Details          0    Indoor  \n",
       "2   44_Indoor_Scene_0.jpg  Indoor_Scene_0   Details          0    Indoor  \n",
       "3  31_Indoor_Scene_0.tiff  Indoor_Scene_0   Details          0    Indoor  \n",
       "4   32_Indoor_Scene_0.jpg  Indoor_Scene_0   Details          0    Indoor  "
      ]
     },
     "execution_count": 4,
     "metadata": {},
     "output_type": "execute_result"
    }
   ],
   "source": [
    "score_details.head(5)"
   ]
  },
  {
   "cell_type": "code",
   "execution_count": 5,
   "metadata": {},
   "outputs": [
    {
     "data": {
      "text/plain": [
       "5116"
      ]
     },
     "execution_count": 5,
     "metadata": {},
     "output_type": "execute_result"
    }
   ],
   "source": [
    "len(score_details)"
   ]
  },
  {
   "cell_type": "code",
   "execution_count": 6,
   "metadata": {},
   "outputs": [
    {
     "data": {
      "text/plain": [
       "Index(['IMAGE PATH', 'JOD', 'JOD STD', 'CI LOW', 'CI HIGH', 'CI RANGE',\n",
       "       'QUALITY LEVEL', 'CLUSTER', 'TOTAL COMPARISONS', 'IMAGE', 'SCENE',\n",
       "       'ATTRIBUTE', 'SCENE IDX', 'CONDITION'],\n",
       "      dtype='object')"
      ]
     },
     "execution_count": 6,
     "metadata": {},
     "output_type": "execute_result"
    }
   ],
   "source": [
    "score_details.columns"
   ]
  },
  {
   "cell_type": "code",
   "execution_count": 9,
   "metadata": {},
   "outputs": [
    {
     "data": {
      "text/plain": [
       "<Axes: xlabel='CLUSTER'>"
      ]
     },
     "execution_count": 9,
     "metadata": {},
     "output_type": "execute_result"
    },
    {
     "data": {
      "image/png": "[encoded data removed]",
      "text/plain": [
       "<Figure size 640x480 with 1 Axes>"
      ]
     },
     "metadata": {},
     "output_type": "display_data"
    }
   ],
   "source": [
    "score_details['CLUSTER'].value_counts().plot(kind='bar')"
   ]
  },
  {
   "cell_type": "code",
   "execution_count": 10,
   "metadata": {},
   "outputs": [
    {
     "data": {
      "text/plain": [
       "<Axes: xlabel='QUALITY LEVEL'>"
      ]
     },
     "execution_count": 10,
     "metadata": {},
     "output_type": "execute_result"
    },
    {
     "data": {
      "image/png": "[encoded data removed]",
      "text/plain": [
       "<Figure size 640x480 with 1 Axes>"
      ]
     },
     "metadata": {},
     "output_type": "display_data"
    }
   ],
   "source": [
    "score_details['QUALITY LEVEL'].value_counts().plot(kind='bar')"
   ]
  },
  {
   "cell_type": "code",
   "execution_count": null,
   "metadata": {},
   "outputs": [],
   "source": []
  }
 ],
 "metadata": {
  "kernelspec": {
   "display_name": "base",
   "language": "python",
   "name": "python3"
  },
  "language_info": {
   "codemirror_mode": {
    "name": "ipython",
    "version": 3
   },
   "file_extension": ".py",
   "mimetype": "text/x-python",
   "name": "python",
   "nbconvert_exporter": "python",
   "pygments_lexer": "ipython3",
   "version": "3.11.3"
  },
  "orig_nbformat": 4
 },
 "nbformat": 4,
 "nbformat_minor": 2
}
